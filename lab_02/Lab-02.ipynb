{
 "cells": [
  {
   "cell_type": "code",
   "execution_count": 1,
   "id": "fac51990",
   "metadata": {},
   "outputs": [],
   "source": [
    "import pandas as pd\n",
    "import matplotlib.pyplot as plt\n",
    "import numpy as np"
   ]
  },
  {
   "cell_type": "code",
   "execution_count": 2,
   "id": "45a55125",
   "metadata": {},
   "outputs": [],
   "source": [
    "arquivo = 'E:\\Dados_do_power_BI\\cap_08\\dado.csv'.replace(\"\\\\\",\"/\")"
   ]
  },
  {
   "cell_type": "code",
   "execution_count": 3,
   "id": "51a91016",
   "metadata": {},
   "outputs": [],
   "source": [
    "df = pd.read_csv(arquivo, encoding = 'utf-8')"
   ]
  },
  {
   "cell_type": "code",
   "execution_count": 4,
   "id": "4da452a8",
   "metadata": {},
   "outputs": [
    {
     "data": {
      "text/html": [
       "<div>\n",
       "<style scoped>\n",
       "    .dataframe tbody tr th:only-of-type {\n",
       "        vertical-align: middle;\n",
       "    }\n",
       "\n",
       "    .dataframe tbody tr th {\n",
       "        vertical-align: top;\n",
       "    }\n",
       "\n",
       "    .dataframe thead th {\n",
       "        text-align: right;\n",
       "    }\n",
       "</style>\n",
       "<table border=\"1\" class=\"dataframe\">\n",
       "  <thead>\n",
       "    <tr style=\"text-align: right;\">\n",
       "      <th></th>\n",
       "      <th>ID-Venda</th>\n",
       "      <th>Data</th>\n",
       "      <th>Produto</th>\n",
       "      <th>Número_Serial</th>\n",
       "      <th>Valor_Venda</th>\n",
       "      <th>Preço_Custo</th>\n",
       "      <th>Cidade</th>\n",
       "      <th>Estado</th>\n",
       "      <th>País</th>\n",
       "    </tr>\n",
       "  </thead>\n",
       "  <tbody>\n",
       "    <tr>\n",
       "      <th>0</th>\n",
       "      <td>1093</td>\n",
       "      <td>2/3/2020</td>\n",
       "      <td>DX101</td>\n",
       "      <td>GF54592</td>\n",
       "      <td>15.56</td>\n",
       "      <td>9.34</td>\n",
       "      <td>Belo Horizonte</td>\n",
       "      <td>Minas Gerais</td>\n",
       "      <td>Brasil</td>\n",
       "    </tr>\n",
       "    <tr>\n",
       "      <th>1</th>\n",
       "      <td>1102</td>\n",
       "      <td>23/03/2020</td>\n",
       "      <td>DX101</td>\n",
       "      <td>GF54599</td>\n",
       "      <td>16.98</td>\n",
       "      <td>8.64</td>\n",
       "      <td>Taubaté</td>\n",
       "      <td>São Paulo</td>\n",
       "      <td>Brasil</td>\n",
       "    </tr>\n",
       "    <tr>\n",
       "      <th>2</th>\n",
       "      <td>1027</td>\n",
       "      <td>27/02/2020</td>\n",
       "      <td>CX102</td>\n",
       "      <td>GF54233</td>\n",
       "      <td>24.79</td>\n",
       "      <td>11.40</td>\n",
       "      <td>Belo Horizonte</td>\n",
       "      <td>Minas Gerais</td>\n",
       "      <td>Brasil</td>\n",
       "    </tr>\n",
       "    <tr>\n",
       "      <th>3</th>\n",
       "      <td>1048</td>\n",
       "      <td>3/3/2020</td>\n",
       "      <td>CX102</td>\n",
       "      <td>GF54664</td>\n",
       "      <td>25.98</td>\n",
       "      <td>12.89</td>\n",
       "      <td>Linhares</td>\n",
       "      <td>Espírito Santo</td>\n",
       "      <td>Brasil</td>\n",
       "    </tr>\n",
       "    <tr>\n",
       "      <th>4</th>\n",
       "      <td>1066</td>\n",
       "      <td>5/3/2020</td>\n",
       "      <td>CX102</td>\n",
       "      <td>GF54402</td>\n",
       "      <td>26.90</td>\n",
       "      <td>13.39</td>\n",
       "      <td>Petrópolis</td>\n",
       "      <td>Rio de Janeiro</td>\n",
       "      <td>Brasil</td>\n",
       "    </tr>\n",
       "    <tr>\n",
       "      <th>...</th>\n",
       "      <td>...</td>\n",
       "      <td>...</td>\n",
       "      <td>...</td>\n",
       "      <td>...</td>\n",
       "      <td>...</td>\n",
       "      <td>...</td>\n",
       "      <td>...</td>\n",
       "      <td>...</td>\n",
       "      <td>...</td>\n",
       "    </tr>\n",
       "    <tr>\n",
       "      <th>101</th>\n",
       "      <td>1080</td>\n",
       "      <td>4/3/2020</td>\n",
       "      <td>BX103</td>\n",
       "      <td>GF54291</td>\n",
       "      <td>75.03</td>\n",
       "      <td>33.09</td>\n",
       "      <td>São Paulo</td>\n",
       "      <td>São Paulo</td>\n",
       "      <td>Brasil</td>\n",
       "    </tr>\n",
       "    <tr>\n",
       "      <th>102</th>\n",
       "      <td>1091</td>\n",
       "      <td>22/03/2020</td>\n",
       "      <td>BX103</td>\n",
       "      <td>GF54648</td>\n",
       "      <td>75.04</td>\n",
       "      <td>34.47</td>\n",
       "      <td>Campos</td>\n",
       "      <td>Rio de Janeiro</td>\n",
       "      <td>Brasil</td>\n",
       "    </tr>\n",
       "    <tr>\n",
       "      <th>103</th>\n",
       "      <td>1092</td>\n",
       "      <td>27/03/2020</td>\n",
       "      <td>BX103</td>\n",
       "      <td>GF54624</td>\n",
       "      <td>76.05</td>\n",
       "      <td>32.40</td>\n",
       "      <td>Belo Horizonte</td>\n",
       "      <td>Minas Gerais</td>\n",
       "      <td>Brasil</td>\n",
       "    </tr>\n",
       "    <tr>\n",
       "      <th>104</th>\n",
       "      <td>1096</td>\n",
       "      <td>27/03/2020</td>\n",
       "      <td>BX103</td>\n",
       "      <td>GF54642</td>\n",
       "      <td>77.90</td>\n",
       "      <td>35.16</td>\n",
       "      <td>São Paulo</td>\n",
       "      <td>São Paulo</td>\n",
       "      <td>Brasil</td>\n",
       "    </tr>\n",
       "    <tr>\n",
       "      <th>105</th>\n",
       "      <td>1097</td>\n",
       "      <td>18/03/2020</td>\n",
       "      <td>BX103</td>\n",
       "      <td>GF54286</td>\n",
       "      <td>78.90</td>\n",
       "      <td>35.84</td>\n",
       "      <td>São Paulo</td>\n",
       "      <td>São Paulo</td>\n",
       "      <td>Brasil</td>\n",
       "    </tr>\n",
       "  </tbody>\n",
       "</table>\n",
       "<p>106 rows × 9 columns</p>\n",
       "</div>"
      ],
      "text/plain": [
       "     ID-Venda        Data Produto Número_Serial  Valor_Venda  Preço_Custo  \\\n",
       "0        1093    2/3/2020   DX101       GF54592        15.56         9.34   \n",
       "1        1102  23/03/2020   DX101       GF54599        16.98         8.64   \n",
       "2        1027  27/02/2020   CX102       GF54233        24.79        11.40   \n",
       "3        1048    3/3/2020   CX102       GF54664        25.98        12.89   \n",
       "4        1066    5/3/2020   CX102       GF54402        26.90        13.39   \n",
       "..        ...         ...     ...           ...          ...          ...   \n",
       "101      1080    4/3/2020   BX103       GF54291        75.03        33.09   \n",
       "102      1091  22/03/2020   BX103       GF54648        75.04        34.47   \n",
       "103      1092  27/03/2020   BX103       GF54624        76.05        32.40   \n",
       "104      1096  27/03/2020   BX103       GF54642        77.90        35.16   \n",
       "105      1097  18/03/2020   BX103       GF54286        78.90        35.84   \n",
       "\n",
       "             Cidade          Estado    País  \n",
       "0    Belo Horizonte    Minas Gerais  Brasil  \n",
       "1           Taubaté       São Paulo  Brasil  \n",
       "2    Belo Horizonte    Minas Gerais  Brasil  \n",
       "3          Linhares  Espírito Santo  Brasil  \n",
       "4        Petrópolis  Rio de Janeiro  Brasil  \n",
       "..              ...             ...     ...  \n",
       "101       São Paulo       São Paulo  Brasil  \n",
       "102          Campos  Rio de Janeiro  Brasil  \n",
       "103  Belo Horizonte    Minas Gerais  Brasil  \n",
       "104       São Paulo       São Paulo  Brasil  \n",
       "105       São Paulo       São Paulo  Brasil  \n",
       "\n",
       "[106 rows x 9 columns]"
      ]
     },
     "metadata": {},
     "output_type": "display_data"
    }
   ],
   "source": [
    "display(df)"
   ]
  },
  {
   "cell_type": "markdown",
   "id": "3867cc73",
   "metadata": {},
   "source": [
    "##### perguntas a serem respondidas"
   ]
  },
  {
   "cell_type": "markdown",
   "id": "0a81989e",
   "metadata": {},
   "source": [
    "- Total monetário de vendas por dia\n",
    "- Total monetário de vendas por cidade\n",
    "- Média de valor monetário de vendas por estado\n",
    "- Média de valor monetário de vendas por produto\n",
    "- Total de unidades vendidas por estado e por dia\n",
    "- Total de unidades vendidas por produto"
   ]
  },
  {
   "cell_type": "markdown",
   "id": "61dcc851",
   "metadata": {},
   "source": [
    "#### Análise exploratória e limpeza dos dados"
   ]
  },
  {
   "cell_type": "markdown",
   "id": "456f4c73",
   "metadata": {},
   "source": [
    "Dicionário de variáveis\n",
    "\n",
    "\n",
    "- ID-Venda: Identificação da venda\n",
    "- Data: data de ocorrência da venda\n",
    "- Produto: Código de identificação do produto\n",
    "- Número_Serial: Número de série da venda\n",
    "- Valor_Venda: Valor nominal da venda\n",
    "- Preço_Custo: Preço de custo do produto\n",
    "- Cidade: Cidade onde a venda ocorreu\n",
    "- Estado: Estado de ocorrencia da venda\n",
    "- País: Pais onde a venda ocorreu"
   ]
  },
  {
   "cell_type": "code",
   "execution_count": 5,
   "id": "835661e8",
   "metadata": {},
   "outputs": [
    {
     "data": {
      "text/plain": [
       "ID-Venda           int64\n",
       "Data              object\n",
       "Produto           object\n",
       "Número_Serial     object\n",
       "Valor_Venda      float64\n",
       "Preço_Custo      float64\n",
       "Cidade            object\n",
       "Estado            object\n",
       "País              object\n",
       "dtype: object"
      ]
     },
     "execution_count": 5,
     "metadata": {},
     "output_type": "execute_result"
    }
   ],
   "source": [
    "df.dtypes"
   ]
  },
  {
   "cell_type": "code",
   "execution_count": 6,
   "id": "18f0cc3f",
   "metadata": {},
   "outputs": [],
   "source": [
    "# Convertendo a coluna ID-Venda para textos\n",
    "df['ID-Venda'] = df['ID-Venda'].astype(str)"
   ]
  },
  {
   "cell_type": "code",
   "execution_count": 7,
   "id": "cddff3f2",
   "metadata": {},
   "outputs": [],
   "source": [
    "#separar as coordenadas de datas para facilitar as analises\n",
    "df[['Dia', 'Mês', 'Ano']] = df['Data'].str.split('/', expand=True)\n",
    "df = df.drop(['Data'], axis = 1)\n",
    "#######\n",
    "df['Dia'] = df['Dia'].astype(int)\n",
    "df['Mês'] = df['Mês'].astype(int)\n",
    "df['Ano'] = df['Ano'].astype(int)\n",
    "#######\n",
    "df['Dia'] = df['Dia'].astype(str)\n",
    "df['Mês'] = df['Mês'].astype(str)\n",
    "df['Ano'] = df['Ano'].astype(str)"
   ]
  },
  {
   "cell_type": "code",
   "execution_count": 8,
   "id": "3109b095",
   "metadata": {},
   "outputs": [
    {
     "data": {
      "text/html": [
       "<div>\n",
       "<style scoped>\n",
       "    .dataframe tbody tr th:only-of-type {\n",
       "        vertical-align: middle;\n",
       "    }\n",
       "\n",
       "    .dataframe tbody tr th {\n",
       "        vertical-align: top;\n",
       "    }\n",
       "\n",
       "    .dataframe thead th {\n",
       "        text-align: right;\n",
       "    }\n",
       "</style>\n",
       "<table border=\"1\" class=\"dataframe\">\n",
       "  <thead>\n",
       "    <tr style=\"text-align: right;\">\n",
       "      <th></th>\n",
       "      <th>ID-Venda</th>\n",
       "      <th>Produto</th>\n",
       "      <th>Número_Serial</th>\n",
       "      <th>Valor_Venda</th>\n",
       "      <th>Preço_Custo</th>\n",
       "      <th>Cidade</th>\n",
       "      <th>Estado</th>\n",
       "      <th>País</th>\n",
       "      <th>Dia</th>\n",
       "      <th>Mês</th>\n",
       "      <th>Ano</th>\n",
       "    </tr>\n",
       "  </thead>\n",
       "  <tbody>\n",
       "    <tr>\n",
       "      <th>0</th>\n",
       "      <td>1093</td>\n",
       "      <td>DX101</td>\n",
       "      <td>GF54592</td>\n",
       "      <td>15.56</td>\n",
       "      <td>9.34</td>\n",
       "      <td>Belo Horizonte</td>\n",
       "      <td>Minas Gerais</td>\n",
       "      <td>Brasil</td>\n",
       "      <td>2</td>\n",
       "      <td>3</td>\n",
       "      <td>2020</td>\n",
       "    </tr>\n",
       "    <tr>\n",
       "      <th>1</th>\n",
       "      <td>1102</td>\n",
       "      <td>DX101</td>\n",
       "      <td>GF54599</td>\n",
       "      <td>16.98</td>\n",
       "      <td>8.64</td>\n",
       "      <td>Taubaté</td>\n",
       "      <td>São Paulo</td>\n",
       "      <td>Brasil</td>\n",
       "      <td>23</td>\n",
       "      <td>3</td>\n",
       "      <td>2020</td>\n",
       "    </tr>\n",
       "    <tr>\n",
       "      <th>2</th>\n",
       "      <td>1027</td>\n",
       "      <td>CX102</td>\n",
       "      <td>GF54233</td>\n",
       "      <td>24.79</td>\n",
       "      <td>11.40</td>\n",
       "      <td>Belo Horizonte</td>\n",
       "      <td>Minas Gerais</td>\n",
       "      <td>Brasil</td>\n",
       "      <td>27</td>\n",
       "      <td>2</td>\n",
       "      <td>2020</td>\n",
       "    </tr>\n",
       "    <tr>\n",
       "      <th>3</th>\n",
       "      <td>1048</td>\n",
       "      <td>CX102</td>\n",
       "      <td>GF54664</td>\n",
       "      <td>25.98</td>\n",
       "      <td>12.89</td>\n",
       "      <td>Linhares</td>\n",
       "      <td>Espírito Santo</td>\n",
       "      <td>Brasil</td>\n",
       "      <td>3</td>\n",
       "      <td>3</td>\n",
       "      <td>2020</td>\n",
       "    </tr>\n",
       "    <tr>\n",
       "      <th>4</th>\n",
       "      <td>1066</td>\n",
       "      <td>CX102</td>\n",
       "      <td>GF54402</td>\n",
       "      <td>26.90</td>\n",
       "      <td>13.39</td>\n",
       "      <td>Petrópolis</td>\n",
       "      <td>Rio de Janeiro</td>\n",
       "      <td>Brasil</td>\n",
       "      <td>5</td>\n",
       "      <td>3</td>\n",
       "      <td>2020</td>\n",
       "    </tr>\n",
       "    <tr>\n",
       "      <th>...</th>\n",
       "      <td>...</td>\n",
       "      <td>...</td>\n",
       "      <td>...</td>\n",
       "      <td>...</td>\n",
       "      <td>...</td>\n",
       "      <td>...</td>\n",
       "      <td>...</td>\n",
       "      <td>...</td>\n",
       "      <td>...</td>\n",
       "      <td>...</td>\n",
       "      <td>...</td>\n",
       "    </tr>\n",
       "    <tr>\n",
       "      <th>101</th>\n",
       "      <td>1080</td>\n",
       "      <td>BX103</td>\n",
       "      <td>GF54291</td>\n",
       "      <td>75.03</td>\n",
       "      <td>33.09</td>\n",
       "      <td>São Paulo</td>\n",
       "      <td>São Paulo</td>\n",
       "      <td>Brasil</td>\n",
       "      <td>4</td>\n",
       "      <td>3</td>\n",
       "      <td>2020</td>\n",
       "    </tr>\n",
       "    <tr>\n",
       "      <th>102</th>\n",
       "      <td>1091</td>\n",
       "      <td>BX103</td>\n",
       "      <td>GF54648</td>\n",
       "      <td>75.04</td>\n",
       "      <td>34.47</td>\n",
       "      <td>Campos</td>\n",
       "      <td>Rio de Janeiro</td>\n",
       "      <td>Brasil</td>\n",
       "      <td>22</td>\n",
       "      <td>3</td>\n",
       "      <td>2020</td>\n",
       "    </tr>\n",
       "    <tr>\n",
       "      <th>103</th>\n",
       "      <td>1092</td>\n",
       "      <td>BX103</td>\n",
       "      <td>GF54624</td>\n",
       "      <td>76.05</td>\n",
       "      <td>32.40</td>\n",
       "      <td>Belo Horizonte</td>\n",
       "      <td>Minas Gerais</td>\n",
       "      <td>Brasil</td>\n",
       "      <td>27</td>\n",
       "      <td>3</td>\n",
       "      <td>2020</td>\n",
       "    </tr>\n",
       "    <tr>\n",
       "      <th>104</th>\n",
       "      <td>1096</td>\n",
       "      <td>BX103</td>\n",
       "      <td>GF54642</td>\n",
       "      <td>77.90</td>\n",
       "      <td>35.16</td>\n",
       "      <td>São Paulo</td>\n",
       "      <td>São Paulo</td>\n",
       "      <td>Brasil</td>\n",
       "      <td>27</td>\n",
       "      <td>3</td>\n",
       "      <td>2020</td>\n",
       "    </tr>\n",
       "    <tr>\n",
       "      <th>105</th>\n",
       "      <td>1097</td>\n",
       "      <td>BX103</td>\n",
       "      <td>GF54286</td>\n",
       "      <td>78.90</td>\n",
       "      <td>35.84</td>\n",
       "      <td>São Paulo</td>\n",
       "      <td>São Paulo</td>\n",
       "      <td>Brasil</td>\n",
       "      <td>18</td>\n",
       "      <td>3</td>\n",
       "      <td>2020</td>\n",
       "    </tr>\n",
       "  </tbody>\n",
       "</table>\n",
       "<p>106 rows × 11 columns</p>\n",
       "</div>"
      ],
      "text/plain": [
       "    ID-Venda Produto Número_Serial  Valor_Venda  Preço_Custo          Cidade  \\\n",
       "0       1093   DX101       GF54592        15.56         9.34  Belo Horizonte   \n",
       "1       1102   DX101       GF54599        16.98         8.64         Taubaté   \n",
       "2       1027   CX102       GF54233        24.79        11.40  Belo Horizonte   \n",
       "3       1048   CX102       GF54664        25.98        12.89        Linhares   \n",
       "4       1066   CX102       GF54402        26.90        13.39      Petrópolis   \n",
       "..       ...     ...           ...          ...          ...             ...   \n",
       "101     1080   BX103       GF54291        75.03        33.09       São Paulo   \n",
       "102     1091   BX103       GF54648        75.04        34.47          Campos   \n",
       "103     1092   BX103       GF54624        76.05        32.40  Belo Horizonte   \n",
       "104     1096   BX103       GF54642        77.90        35.16       São Paulo   \n",
       "105     1097   BX103       GF54286        78.90        35.84       São Paulo   \n",
       "\n",
       "             Estado    País Dia Mês   Ano  \n",
       "0      Minas Gerais  Brasil   2   3  2020  \n",
       "1         São Paulo  Brasil  23   3  2020  \n",
       "2      Minas Gerais  Brasil  27   2  2020  \n",
       "3    Espírito Santo  Brasil   3   3  2020  \n",
       "4    Rio de Janeiro  Brasil   5   3  2020  \n",
       "..              ...     ...  ..  ..   ...  \n",
       "101       São Paulo  Brasil   4   3  2020  \n",
       "102  Rio de Janeiro  Brasil  22   3  2020  \n",
       "103    Minas Gerais  Brasil  27   3  2020  \n",
       "104       São Paulo  Brasil  27   3  2020  \n",
       "105       São Paulo  Brasil  18   3  2020  \n",
       "\n",
       "[106 rows x 11 columns]"
      ]
     },
     "metadata": {},
     "output_type": "display_data"
    }
   ],
   "source": [
    "display(df)"
   ]
  },
  {
   "cell_type": "code",
   "execution_count": 9,
   "id": "25bc88a7",
   "metadata": {},
   "outputs": [
    {
     "name": "stdout",
     "output_type": "stream",
     "text": [
      "106\n",
      "12\n",
      "['DX101' 'CX102' 'BX101' 'AX103' 'BX102' 'DX103' 'CX101' 'AX102' 'DX102'\n",
      " 'BX103' 'CX103' 'AX101']\n"
     ]
    }
   ],
   "source": [
    "print(len(df['ID-Venda'].unique()))\n",
    "print(len(df['Produto'].unique()))\n",
    "print(df['Produto'].unique())"
   ]
  },
  {
   "cell_type": "code",
   "execution_count": 10,
   "id": "8110aa67",
   "metadata": {},
   "outputs": [
    {
     "data": {
      "text/html": [
       "<div>\n",
       "<style scoped>\n",
       "    .dataframe tbody tr th:only-of-type {\n",
       "        vertical-align: middle;\n",
       "    }\n",
       "\n",
       "    .dataframe tbody tr th {\n",
       "        vertical-align: top;\n",
       "    }\n",
       "\n",
       "    .dataframe thead th {\n",
       "        text-align: right;\n",
       "    }\n",
       "</style>\n",
       "<table border=\"1\" class=\"dataframe\">\n",
       "  <thead>\n",
       "    <tr style=\"text-align: right;\">\n",
       "      <th></th>\n",
       "      <th>ID-Venda</th>\n",
       "      <th>Produto</th>\n",
       "      <th>Número_Serial</th>\n",
       "      <th>Valor_Venda</th>\n",
       "      <th>Preço_Custo</th>\n",
       "      <th>Cidade</th>\n",
       "      <th>Estado</th>\n",
       "      <th>País</th>\n",
       "      <th>Dia</th>\n",
       "      <th>Mês</th>\n",
       "      <th>Ano</th>\n",
       "    </tr>\n",
       "  </thead>\n",
       "  <tbody>\n",
       "    <tr>\n",
       "      <th>6</th>\n",
       "      <td>1004</td>\n",
       "      <td>BX101</td>\n",
       "      <td>GF54527</td>\n",
       "      <td>30.06</td>\n",
       "      <td>13.53</td>\n",
       "      <td>Rio de Janeiro</td>\n",
       "      <td>Rio de Janeiro</td>\n",
       "      <td>Brasil</td>\n",
       "      <td>28</td>\n",
       "      <td>3</td>\n",
       "      <td>2020</td>\n",
       "    </tr>\n",
       "    <tr>\n",
       "      <th>7</th>\n",
       "      <td>1039</td>\n",
       "      <td>BX101</td>\n",
       "      <td>GF54692</td>\n",
       "      <td>29.40</td>\n",
       "      <td>14.73</td>\n",
       "      <td>Vila Velha</td>\n",
       "      <td>Espírito Santo</td>\n",
       "      <td>Brasil</td>\n",
       "      <td>17</td>\n",
       "      <td>3</td>\n",
       "      <td>2020</td>\n",
       "    </tr>\n",
       "    <tr>\n",
       "      <th>8</th>\n",
       "      <td>1040</td>\n",
       "      <td>BX101</td>\n",
       "      <td>GF54696</td>\n",
       "      <td>28.98</td>\n",
       "      <td>14.73</td>\n",
       "      <td>Vila Velha</td>\n",
       "      <td>Espírito Santo</td>\n",
       "      <td>Brasil</td>\n",
       "      <td>4</td>\n",
       "      <td>3</td>\n",
       "      <td>2020</td>\n",
       "    </tr>\n",
       "    <tr>\n",
       "      <th>28</th>\n",
       "      <td>1046</td>\n",
       "      <td>BX101</td>\n",
       "      <td>GF54607</td>\n",
       "      <td>27.65</td>\n",
       "      <td>14.73</td>\n",
       "      <td>Linhares</td>\n",
       "      <td>Espírito Santo</td>\n",
       "      <td>Brasil</td>\n",
       "      <td>4</td>\n",
       "      <td>3</td>\n",
       "      <td>2020</td>\n",
       "    </tr>\n",
       "    <tr>\n",
       "      <th>29</th>\n",
       "      <td>1064</td>\n",
       "      <td>BX101</td>\n",
       "      <td>GF54434</td>\n",
       "      <td>26.90</td>\n",
       "      <td>14.73</td>\n",
       "      <td>Petrópolis</td>\n",
       "      <td>Rio de Janeiro</td>\n",
       "      <td>Brasil</td>\n",
       "      <td>11</td>\n",
       "      <td>3</td>\n",
       "      <td>2020</td>\n",
       "    </tr>\n",
       "    <tr>\n",
       "      <th>30</th>\n",
       "      <td>1070</td>\n",
       "      <td>BX101</td>\n",
       "      <td>GF54460</td>\n",
       "      <td>33.90</td>\n",
       "      <td>15.03</td>\n",
       "      <td>Belo Horizonte</td>\n",
       "      <td>Minas Gerais</td>\n",
       "      <td>Brasil</td>\n",
       "      <td>20</td>\n",
       "      <td>3</td>\n",
       "      <td>2020</td>\n",
       "    </tr>\n",
       "    <tr>\n",
       "      <th>31</th>\n",
       "      <td>1072</td>\n",
       "      <td>BX101</td>\n",
       "      <td>GF54433</td>\n",
       "      <td>34.23</td>\n",
       "      <td>14.73</td>\n",
       "      <td>São Paulo</td>\n",
       "      <td>São Paulo</td>\n",
       "      <td>Brasil</td>\n",
       "      <td>30</td>\n",
       "      <td>3</td>\n",
       "      <td>2020</td>\n",
       "    </tr>\n",
       "  </tbody>\n",
       "</table>\n",
       "</div>"
      ],
      "text/plain": [
       "   ID-Venda Produto Número_Serial  Valor_Venda  Preço_Custo          Cidade  \\\n",
       "6      1004   BX101       GF54527        30.06        13.53  Rio de Janeiro   \n",
       "7      1039   BX101       GF54692        29.40        14.73      Vila Velha   \n",
       "8      1040   BX101       GF54696        28.98        14.73      Vila Velha   \n",
       "28     1046   BX101       GF54607        27.65        14.73        Linhares   \n",
       "29     1064   BX101       GF54434        26.90        14.73      Petrópolis   \n",
       "30     1070   BX101       GF54460        33.90        15.03  Belo Horizonte   \n",
       "31     1072   BX101       GF54433        34.23        14.73       São Paulo   \n",
       "\n",
       "            Estado    País Dia Mês   Ano  \n",
       "6   Rio de Janeiro  Brasil  28   3  2020  \n",
       "7   Espírito Santo  Brasil  17   3  2020  \n",
       "8   Espírito Santo  Brasil   4   3  2020  \n",
       "28  Espírito Santo  Brasil   4   3  2020  \n",
       "29  Rio de Janeiro  Brasil  11   3  2020  \n",
       "30    Minas Gerais  Brasil  20   3  2020  \n",
       "31       São Paulo  Brasil  30   3  2020  "
      ]
     },
     "execution_count": 10,
     "metadata": {},
     "output_type": "execute_result"
    }
   ],
   "source": [
    "df[df['Produto'] == 'BX101']"
   ]
  },
  {
   "cell_type": "code",
   "execution_count": 11,
   "id": "5306b3c0",
   "metadata": {},
   "outputs": [
    {
     "name": "stdout",
     "output_type": "stream",
     "text": [
      "['2020' '20201']\n"
     ]
    }
   ],
   "source": [
    "print(df['Ano'].unique())\n",
    "#existe um ano estranho na coluna ano, pode ser que isso seja um erro, vou corrigir isso para 2020"
   ]
  },
  {
   "cell_type": "code",
   "execution_count": 12,
   "id": "70634266",
   "metadata": {},
   "outputs": [
    {
     "data": {
      "text/html": [
       "<div>\n",
       "<style scoped>\n",
       "    .dataframe tbody tr th:only-of-type {\n",
       "        vertical-align: middle;\n",
       "    }\n",
       "\n",
       "    .dataframe tbody tr th {\n",
       "        vertical-align: top;\n",
       "    }\n",
       "\n",
       "    .dataframe thead th {\n",
       "        text-align: right;\n",
       "    }\n",
       "</style>\n",
       "<table border=\"1\" class=\"dataframe\">\n",
       "  <thead>\n",
       "    <tr style=\"text-align: right;\">\n",
       "      <th></th>\n",
       "      <th>ID-Venda</th>\n",
       "      <th>Produto</th>\n",
       "      <th>Número_Serial</th>\n",
       "      <th>Valor_Venda</th>\n",
       "      <th>Preço_Custo</th>\n",
       "      <th>Cidade</th>\n",
       "      <th>Estado</th>\n",
       "      <th>País</th>\n",
       "      <th>Dia</th>\n",
       "      <th>Mês</th>\n",
       "      <th>Ano</th>\n",
       "    </tr>\n",
       "  </thead>\n",
       "  <tbody>\n",
       "    <tr>\n",
       "      <th>18</th>\n",
       "      <td>1031</td>\n",
       "      <td>DX101</td>\n",
       "      <td>GF54489</td>\n",
       "      <td>18.56</td>\n",
       "      <td>8.11</td>\n",
       "      <td>Belo Horizonte</td>\n",
       "      <td>Minas Gerais</td>\n",
       "      <td>Brasil</td>\n",
       "      <td>18</td>\n",
       "      <td>3</td>\n",
       "      <td>20201</td>\n",
       "    </tr>\n",
       "  </tbody>\n",
       "</table>\n",
       "</div>"
      ],
      "text/plain": [
       "   ID-Venda Produto Número_Serial  Valor_Venda  Preço_Custo          Cidade  \\\n",
       "18     1031   DX101       GF54489        18.56         8.11  Belo Horizonte   \n",
       "\n",
       "          Estado    País Dia Mês    Ano  \n",
       "18  Minas Gerais  Brasil  18   3  20201  "
      ]
     },
     "execution_count": 12,
     "metadata": {},
     "output_type": "execute_result"
    }
   ],
   "source": [
    "df[df['Ano'] == '20201']"
   ]
  },
  {
   "cell_type": "code",
   "execution_count": 13,
   "id": "4ddbd8cc",
   "metadata": {},
   "outputs": [],
   "source": [
    "df['Ano'] = df['Ano'].replace(\"20201\", \"2020\")"
   ]
  },
  {
   "cell_type": "code",
   "execution_count": 14,
   "id": "f66a956b",
   "metadata": {},
   "outputs": [
    {
     "name": "stdout",
     "output_type": "stream",
     "text": [
      "ID-Venda\n",
      "\n",
      "['1093' '1102' '1027' '1048' '1066' '1094' '1004' '1039' '1040' '1086'\n",
      " '1100' '1002' '1006' '1015' '1016' '1036' '1037' '1009' '1031' '1034'\n",
      " '1057' '1059' '1062' '1076' '1077' '1085' '1087' '1090' '1046' '1064'\n",
      " '1070' '1072' '1014' '1018' '1043' '1044' '1065' '1013' '1019' '1029'\n",
      " '1045' '1089' '1008' '1010' '1011' '1025' '1038' '1041' '1053' '1055'\n",
      " '1067' '1079' '1098' '1104' '1106' '1007' '1012' '1017' '1023' '1030'\n",
      " '1050' '1054' '1071' '1082' '1049' '1061' '1095' '1021' '1024' '1033'\n",
      " '1047' '1060' '1063' '1068' '1074' '1083' '1084' '1101' '1103' '1028'\n",
      " '1042' '1056' '1058' '1088' '1105' '1001' '1003' '1005' '1020' '1026'\n",
      " '1032' '1081' '1099' '1022' '1035' '1051' '1052' '1069' '1073' '1075'\n",
      " '1078' '1080' '1091' '1092' '1096' '1097']\n",
      "$$$$$$$$$$$$$$\n",
      "Produto\n",
      "\n",
      "['DX101' 'CX102' 'BX101' 'AX103' 'BX102' 'DX103' 'CX101' 'AX102' 'DX102'\n",
      " 'BX103' 'CX103' 'AX101']\n",
      "$$$$$$$$$$$$$$\n",
      "Número_Serial\n",
      "\n",
      "['GF54592' 'GF54599' 'GF54233' 'GF54664' 'GF54402' 'GF54679' 'GF54527'\n",
      " 'GF54692' 'GF54696' 'GF54401' 'GF54373' 'GF54425' 'GF54484' 'GF54434'\n",
      " 'GF54418' 'GF54448' 'GF54319' 'GF54489' 'GF54405' 'GF54430' 'GF54576'\n",
      " 'GF54587' 'GF54501' 'GF54258' 'GF54296' 'GF54389' 'GF54462' 'GF54607'\n",
      " 'GF54460' 'GF54433' 'GF54556' 'GF54315' 'GF54250' 'GF54604' 'GF54658'\n",
      " 'GF54609' 'GF54568' 'GF54685' 'GF54559' 'GF54601' 'GF54584' 'GF54236'\n",
      " 'GF54473' 'GF54245' 'GF54331' 'GF54298' 'GF54615' 'GF54232' 'GF54400'\n",
      " 'GF54268' 'GF54322' 'GF54301' 'GF54240' 'GF54256' 'GF54594' 'GF54314'\n",
      " 'GF54324' 'GF54498' 'GF54457' 'GF54279' 'GF54620' 'GF54251' 'GF54634'\n",
      " 'GF54323' 'GF54264' 'GF54374' 'GF54493' 'GF54521' 'GF54341' 'GF54334'\n",
      " 'GF54304' 'GF54602' 'GF54456' 'GF54509' 'GF54368' 'GF54371' 'GF54449'\n",
      " 'GF54641' 'GF54356' 'GF54309' 'GF54381' 'GF54695' 'GF54354' 'GF54502'\n",
      " 'GF54361' 'GF54586' 'GF54553' 'GF54492' 'GF54414' 'GF54674' 'GF54305'\n",
      " 'GF54500' 'GF54548' 'GF54291' 'GF54648' 'GF54624' 'GF54642' 'GF54286']\n",
      "$$$$$$$$$$$$$$\n",
      "Valor_Venda\n",
      "\n",
      "[15.56 16.98 24.79 25.98 26.9  21.87 30.06 29.4  28.98 54.44 54.9  54.87\n",
      " 54.1  55.67 17.62 18.56 19.12 19.11 18.9  16.87 18.34 17.43 21.23 22.9\n",
      " 23.87 27.65 33.9  34.23 42.52 43.98 44.12 39.9  43.9  45.9  45.98 44.9\n",
      " 51.28 53.87 54.98 59.87 55.89 55.12 53.12 53.9  55.14 55.34 54.23 53.98\n",
      " 52.1  51.9  51.97 51.29 51.87 53.5  54.12 55.55 56.1  62.46 64.98 65.87\n",
      " 65.9  65.1  66.19 66.34 67.1  68.45 81.9  80.04 80.05 80.34 75.34 78.9\n",
      " 77.23 56.9  59.12 56.12 69.12 70.12 70.13 70.45 71.45 71.9  72.34 73.45\n",
      " 71.2  72.13 72.09 73.08 74.1  75.03 75.04 76.05 77.9 ]\n",
      "$$$$$$$$$$$$$$\n",
      "Preço_Custo\n",
      "\n",
      "[ 9.34  8.64 11.4  12.89 13.39 13.53 14.73 24.08 28.36 29.46 28.39 26.25\n",
      "  9.16  8.11  8.28  8.99  9.52  9.69 15.03 23.39 19.13 22.96 21.26 19.98\n",
      " 21.75 21.29 23.1  24.92 24.1  27.18 25.64 24.62 28.2  25.13 23.08 26.15\n",
      " 25.15 25.68 27.82 29.43 28.93 24.64 25.18 30.61 34.35 31.86 28.73 28.11\n",
      " 31.23 35.16 37.22 33.72 40.32 38.85 32.48 34.36 37.79 35.73 31.61 33.67\n",
      " 30.92 32.3  35.84 33.78 33.09 31.71 34.47 32.4 ]\n",
      "$$$$$$$$$$$$$$\n",
      "Cidade\n",
      "\n",
      "['Belo Horizonte' 'Taubaté' 'Linhares' 'Petrópolis' 'Rio de Janeiro'\n",
      " 'Vila Velha' 'Uberlândia' 'Campos' 'São Paulo' 'Osasco' 'Vitória'\n",
      " 'Campinas' nan 'Betim' 'Teresópolis' 'Santos']\n",
      "$$$$$$$$$$$$$$\n",
      "Estado\n",
      "\n",
      "['Minas Gerais' 'São Paulo' 'Espírito Santo' 'Rio de Janeiro' nan]\n",
      "$$$$$$$$$$$$$$\n",
      "País\n",
      "\n",
      "['Brasil' 'Chile']\n",
      "$$$$$$$$$$$$$$\n",
      "Dia\n",
      "\n",
      "['2' '23' '27' '3' '5' '28' '17' '4' '19' '1' '6' '18' '20' '31' '24' '29'\n",
      " '22' '11' '30' '7' '21' '14' '16' '13' '25' '15' '8' '10' '9']\n",
      "$$$$$$$$$$$$$$\n",
      "Mês\n",
      "\n",
      "['3' '2']\n",
      "$$$$$$$$$$$$$$\n",
      "Ano\n",
      "\n",
      "['2020']\n",
      "$$$$$$$$$$$$$$\n"
     ]
    }
   ],
   "source": [
    "for coluna in df.columns:\n",
    "    print(coluna)\n",
    "    print()\n",
    "    print(df[coluna].unique())\n",
    "    print(\"$$$$$$$$$$$$$$\")"
   ]
  },
  {
   "cell_type": "code",
   "execution_count": 15,
   "id": "79ba15ca",
   "metadata": {},
   "outputs": [],
   "source": [
    "df['Cidade'] = df['Cidade'].astype(str)"
   ]
  },
  {
   "cell_type": "code",
   "execution_count": 16,
   "id": "217bc167",
   "metadata": {},
   "outputs": [
    {
     "data": {
      "text/html": [
       "<div>\n",
       "<style scoped>\n",
       "    .dataframe tbody tr th:only-of-type {\n",
       "        vertical-align: middle;\n",
       "    }\n",
       "\n",
       "    .dataframe tbody tr th {\n",
       "        vertical-align: top;\n",
       "    }\n",
       "\n",
       "    .dataframe thead th {\n",
       "        text-align: right;\n",
       "    }\n",
       "</style>\n",
       "<table border=\"1\" class=\"dataframe\">\n",
       "  <thead>\n",
       "    <tr style=\"text-align: right;\">\n",
       "      <th></th>\n",
       "      <th>ID-Venda</th>\n",
       "      <th>Produto</th>\n",
       "      <th>Número_Serial</th>\n",
       "      <th>Valor_Venda</th>\n",
       "      <th>Preço_Custo</th>\n",
       "      <th>Cidade</th>\n",
       "      <th>Estado</th>\n",
       "      <th>País</th>\n",
       "      <th>Dia</th>\n",
       "      <th>Mês</th>\n",
       "      <th>Ano</th>\n",
       "    </tr>\n",
       "  </thead>\n",
       "  <tbody>\n",
       "    <tr>\n",
       "      <th>40</th>\n",
       "      <td>1045</td>\n",
       "      <td>CX101</td>\n",
       "      <td>GF54559</td>\n",
       "      <td>44.9</td>\n",
       "      <td>21.75</td>\n",
       "      <td>nan</td>\n",
       "      <td>NaN</td>\n",
       "      <td>Chile</td>\n",
       "      <td>24</td>\n",
       "      <td>3</td>\n",
       "      <td>2020</td>\n",
       "    </tr>\n",
       "  </tbody>\n",
       "</table>\n",
       "</div>"
      ],
      "text/plain": [
       "   ID-Venda Produto Número_Serial  Valor_Venda  Preço_Custo Cidade Estado  \\\n",
       "40     1045   CX101       GF54559         44.9        21.75    nan    NaN   \n",
       "\n",
       "     País Dia Mês   Ano  \n",
       "40  Chile  24   3  2020  "
      ]
     },
     "execution_count": 16,
     "metadata": {},
     "output_type": "execute_result"
    }
   ],
   "source": [
    "df[df['Cidade'] == 'nan']"
   ]
  },
  {
   "cell_type": "code",
   "execution_count": 17,
   "id": "9f43a4d7",
   "metadata": {},
   "outputs": [],
   "source": [
    "df = df.drop(40)\n",
    "df = df.reset_index()\n",
    "df = df.drop(axis = 1, columns=['index'])"
   ]
  },
  {
   "cell_type": "code",
   "execution_count": 18,
   "id": "1e1dc4e7",
   "metadata": {},
   "outputs": [],
   "source": [
    "df['Estado'] = df['Estado'].astype(str)"
   ]
  },
  {
   "cell_type": "code",
   "execution_count": 19,
   "id": "ea857c4b",
   "metadata": {},
   "outputs": [
    {
     "data": {
      "text/html": [
       "<div>\n",
       "<style scoped>\n",
       "    .dataframe tbody tr th:only-of-type {\n",
       "        vertical-align: middle;\n",
       "    }\n",
       "\n",
       "    .dataframe tbody tr th {\n",
       "        vertical-align: top;\n",
       "    }\n",
       "\n",
       "    .dataframe thead th {\n",
       "        text-align: right;\n",
       "    }\n",
       "</style>\n",
       "<table border=\"1\" class=\"dataframe\">\n",
       "  <thead>\n",
       "    <tr style=\"text-align: right;\">\n",
       "      <th></th>\n",
       "      <th>ID-Venda</th>\n",
       "      <th>Produto</th>\n",
       "      <th>Número_Serial</th>\n",
       "      <th>Valor_Venda</th>\n",
       "      <th>Preço_Custo</th>\n",
       "      <th>Cidade</th>\n",
       "      <th>Estado</th>\n",
       "      <th>País</th>\n",
       "      <th>Dia</th>\n",
       "      <th>Mês</th>\n",
       "      <th>Ano</th>\n",
       "    </tr>\n",
       "  </thead>\n",
       "  <tbody>\n",
       "    <tr>\n",
       "      <th>16</th>\n",
       "      <td>1037</td>\n",
       "      <td>BX102</td>\n",
       "      <td>GF54448</td>\n",
       "      <td>54.9</td>\n",
       "      <td>28.39</td>\n",
       "      <td>Vitória</td>\n",
       "      <td>nan</td>\n",
       "      <td>Brasil</td>\n",
       "      <td>27</td>\n",
       "      <td>3</td>\n",
       "      <td>2020</td>\n",
       "    </tr>\n",
       "  </tbody>\n",
       "</table>\n",
       "</div>"
      ],
      "text/plain": [
       "   ID-Venda Produto Número_Serial  Valor_Venda  Preço_Custo   Cidade Estado  \\\n",
       "16     1037   BX102       GF54448         54.9        28.39  Vitória    nan   \n",
       "\n",
       "      País Dia Mês   Ano  \n",
       "16  Brasil  27   3  2020  "
      ]
     },
     "execution_count": 19,
     "metadata": {},
     "output_type": "execute_result"
    }
   ],
   "source": [
    "df[df['Estado'] == 'nan']"
   ]
  },
  {
   "cell_type": "code",
   "execution_count": 20,
   "id": "8bf7cad4",
   "metadata": {},
   "outputs": [],
   "source": [
    "df = df.drop(16)\n",
    "df = df.reset_index()\n",
    "df = df.drop(axis = 1, columns=['index'])"
   ]
  },
  {
   "cell_type": "code",
   "execution_count": 21,
   "id": "19ab29ff",
   "metadata": {},
   "outputs": [],
   "source": [
    "new_df = df[df['Mês'] == '2']"
   ]
  },
  {
   "cell_type": "code",
   "execution_count": 22,
   "id": "939b928c",
   "metadata": {},
   "outputs": [
    {
     "name": "stdout",
     "output_type": "stream",
     "text": [
      "['27' '28']\n"
     ]
    }
   ],
   "source": [
    "print(new_df['Dia'].unique())"
   ]
  },
  {
   "cell_type": "code",
   "execution_count": 23,
   "id": "3dee98d2",
   "metadata": {},
   "outputs": [],
   "source": [
    "new_df2 = df[df['Mês'] == '3']"
   ]
  },
  {
   "cell_type": "code",
   "execution_count": 24,
   "id": "e3408975",
   "metadata": {},
   "outputs": [
    {
     "name": "stdout",
     "output_type": "stream",
     "text": [
      "['2' '23' '3' '5' '28' '17' '4' '27' '19' '1' '6' '18' '20' '31' '24' '29'\n",
      " '22' '11' '30' '7' '21' '14' '16' '13' '25' '15' '8' '10' '9']\n"
     ]
    }
   ],
   "source": [
    "print(new_df2['Dia'].unique())"
   ]
  },
  {
   "cell_type": "code",
   "execution_count": 25,
   "id": "c238399f",
   "metadata": {},
   "outputs": [],
   "source": [
    "df['Dia'] = df['Dia'].astype(int)"
   ]
  },
  {
   "cell_type": "markdown",
   "id": "9e1746ef",
   "metadata": {},
   "source": [
    "##### Total monetário de vendas por dia"
   ]
  },
  {
   "cell_type": "code",
   "execution_count": 26,
   "id": "5d120a78",
   "metadata": {},
   "outputs": [
    {
     "data": {
      "image/png": "[encoded data removed]",
      "text/plain": [
       "<Figure size 1296x432 with 1 Axes>"
      ]
     },
     "metadata": {
      "needs_background": "light"
     },
     "output_type": "display_data"
    },
    {
     "data": {
      "image/png": "[encoded data removed]",
      "text/plain": [
       "<Figure size 1296x432 with 1 Axes>"
      ]
     },
     "metadata": {
      "needs_background": "light"
     },
     "output_type": "display_data"
    }
   ],
   "source": [
    "meses = df['Mês'].unique()\n",
    "for mes in meses:\n",
    "    new_df = df[df['Mês'] == mes]\n",
    "    dias = new_df['Dia'].unique()\n",
    "    dias.sort()\n",
    "    total_dias = list()\n",
    "    for dia in dias:\n",
    "        new_df2 = new_df[new_df['Dia'] == dia]\n",
    "        value = new_df2['Valor_Venda'].sum()\n",
    "        total_dias.append(value)\n",
    "        \n",
    "    fig, ax = plt.subplots(figsize=(18,6))\n",
    "    \n",
    "    plt.plot(dias, total_dias, 'b--', marker = 'o')\n",
    "    \n",
    "    plt.title(f\"Faturamento diario durante o mês {mes}\", fontdict  = {'fontsize': '15',\n",
    "                                                                                   'family': 'serif',\n",
    "                                                                                   'fontweight': 'bold',\n",
    "                                                                                   'color': 'black' }, loc = 'center')\n",
    "    #configuração e estilos do label x\n",
    "    plt.xlabel(\"\\nData\", fontdict  = {'fontsize': '15',\n",
    "                                           'family': 'serif',\n",
    "                                           'fontweight': 'bold',\n",
    "                                           'color': 'blue' }, loc = 'center')\n",
    "    #configuração e estilos do label y\n",
    "    plt.ylabel(\"Faturamento\", fontdict  = {'fontsize': '15',\n",
    "                                           'family': 'serif',\n",
    "                                           'fontweight': 'bold',\n",
    "                                           'color': 'blue', 'verticalalignment': 'baseline',\n",
    "                                            }, loc = 'center')\n",
    "    \n",
    "    \n",
    "    plt.show()"
   ]
  },
  {
   "cell_type": "markdown",
   "id": "fffef467",
   "metadata": {},
   "source": [
    "#### Total monetário de vendas por cidade"
   ]
  },
  {
   "cell_type": "code",
   "execution_count": 27,
   "id": "f8b505be",
   "metadata": {},
   "outputs": [
    {
     "name": "stdout",
     "output_type": "stream",
     "text": [
      "Média= 362.30\n",
      "Belo Horizonte----953.60\n",
      "Taubaté----71.21\n",
      "Linhares----273.65\n",
      "Petrópolis----258.34\n",
      "Rio de Janeiro----414.56\n",
      "Vila Velha----258.82\n",
      "Uberlândia----98.57\n",
      "Campos----319.95\n",
      "São Paulo----1772.50\n",
      "Osasco----96.62\n",
      "Vitória----359.47\n",
      "Campinas----97.19\n",
      "Betim----131.32\n",
      "Teresópolis----274.63\n",
      "Santos----54.12\n",
      "\n"
     ]
    },
    {
     "data": {
      "image/png": "[encoded data removed]",
      "text/plain": [
       "<Figure size 1296x432 with 1 Axes>"
      ]
     },
     "metadata": {
      "needs_background": "light"
     },
     "output_type": "display_data"
    }
   ],
   "source": [
    "cidades = df['Cidade'].unique()\n",
    "media = df['Valor_Venda'].sum()/len(df['Cidade'].unique())\n",
    "print(f\"Média= {media:.2f}\")\n",
    "total_cidades = list()\n",
    "for cidade in cidades:\n",
    "    new_df = df[df['Cidade'] == cidade]\n",
    "    total_cidade = new_df['Valor_Venda'].sum()\n",
    "    total_cidades.append(total_cidade)\n",
    "    print(f\"{cidade}----{total_cidade:.2f}\")\n",
    "print()\n",
    "fig, ax = plt.subplots(figsize=(18,6))\n",
    "\n",
    "plt.bar(cidades, total_cidades)\n",
    "\n",
    "#configuração e estilos do titulo\n",
    "plt.title(f\"Faturamento total por cidade\\n\", fontdict  = {'fontsize': '15',\n",
    "                                                                               'family': 'serif',\n",
    "                                                                               'fontweight': 'bold',\n",
    "                                                                               'color': 'black' }, loc = 'center')\n",
    "#configuração e estilos do label x\n",
    "plt.xlabel(\"\\nCidade\", fontdict  = {'fontsize': '15',\n",
    "                                       'family': 'serif',\n",
    "                                       'fontweight': 'bold',\n",
    "                                       'color': 'blue' }, loc = 'center')\n",
    "#configuração e estilos do label y\n",
    "plt.ylabel(\"Faturamento\", fontdict  = {'fontsize': '15',\n",
    "                                       'family': 'serif',\n",
    "                                       'fontweight': 'bold',\n",
    "                                       'color': 'blue', 'verticalalignment': 'baseline',\n",
    "                                        }, loc = 'center')\n",
    "#legenda automatica configuração e posicionamento da \n",
    "\n",
    "plt.show()"
   ]
  },
  {
   "cell_type": "markdown",
   "id": "3ad4a2d3",
   "metadata": {},
   "source": [
    "#### Média de valor monetário de vendas por estado"
   ]
  },
  {
   "cell_type": "code",
   "execution_count": 28,
   "id": "3ff405c6",
   "metadata": {},
   "outputs": [
    {
     "name": "stdout",
     "output_type": "stream",
     "text": [
      "Média: 1358.6374999999998\n",
      "Minas Gerais----1183.49\n",
      "São Paulo----2091.64\n",
      "Espírito Santo----891.94\n",
      "Rio de Janeiro----1267.48\n",
      "\n"
     ]
    },
    {
     "data": {
      "image/png": "[encoded data removed]",
      "text/plain": [
       "<Figure size 1296x432 with 1 Axes>"
      ]
     },
     "metadata": {
      "needs_background": "light"
     },
     "output_type": "display_data"
    }
   ],
   "source": [
    "Estados = df['Estado'].unique()\n",
    "media = df['Valor_Venda'].sum()/len(df['Estado'].unique())\n",
    "print(f\"Média: {media}\")\n",
    "total_estados = list()\n",
    "for estado in Estados:\n",
    "    new_df = df[df['Estado'] == estado]\n",
    "    total_estado = new_df['Valor_Venda'].sum()\n",
    "    total_estados.append(total_estado)\n",
    "    print(f\"{estado}----{total_estado:.2f}\")\n",
    "print()\n",
    "fig, ax = plt.subplots(figsize=(18,6))\n",
    "\n",
    "plt.bar(Estados, total_estados)\n",
    "\n",
    "#configuração e estilos do titulo\n",
    "plt.title(f\"Faturamento total por estado\\n\", fontdict  = {'fontsize': '15',\n",
    "                                                                               'family': 'serif',\n",
    "                                                                               'fontweight': 'bold',\n",
    "                                                                               'color': 'black' }, loc = 'center')\n",
    "#configuração e estilos do label x\n",
    "plt.xlabel(\"\\nEstado\", fontdict  = {'fontsize': '15',\n",
    "                                       'family': 'serif',\n",
    "                                       'fontweight': 'bold',\n",
    "                                       'color': 'blue' }, loc = 'center')\n",
    "#configuração e estilos do label y\n",
    "plt.ylabel(\"Faturamento\", fontdict  = {'fontsize': '15',\n",
    "                                       'family': 'serif',\n",
    "                                       'fontweight': 'bold',\n",
    "                                       'color': 'blue', 'verticalalignment': 'baseline',\n",
    "                                        }, loc = 'center')\n",
    "#legenda automatica configuração e posicionamento da \n",
    "\n",
    "plt.show()"
   ]
  },
  {
   "cell_type": "markdown",
   "id": "67755167",
   "metadata": {},
   "source": [
    "#### Média de valor monetário de vendas por produto"
   ]
  },
  {
   "cell_type": "code",
   "execution_count": 29,
   "id": "a7e6fe70",
   "metadata": {},
   "outputs": [
    {
     "name": "stdout",
     "output_type": "stream",
     "text": [
      "Média: 452.88\n",
      "DX101----246.49\n",
      "CX102----99.54\n",
      "BX101----211.12\n",
      "AX103----584.08\n",
      "BX102----440.21\n",
      "DX103----214.42\n",
      "CX101----181.90\n",
      "AX102----713.18\n",
      "DX102----703.19\n",
      "BX103----1125.15\n",
      "CX103----391.86\n",
      "AX101----523.41\n",
      "\n"
     ]
    },
    {
     "data": {
      "image/png": "[encoded data removed]",
      "text/plain": [
       "<Figure size 1296x432 with 1 Axes>"
      ]
     },
     "metadata": {
      "needs_background": "light"
     },
     "output_type": "display_data"
    }
   ],
   "source": [
    "produtos = df['Produto'].unique()\n",
    "media = df['Valor_Venda'].sum()/len(df['Produto'].unique())\n",
    "print(f\"Média: {media:.2f}\")\n",
    "\n",
    "total_produtos = list()\n",
    "for produto in produtos:\n",
    "    new_df = df[df['Produto'] == produto]\n",
    "    total_produto = new_df['Valor_Venda'].sum()\n",
    "    total_produtos.append(total_produto)\n",
    "    print(f\"{produto}----{total_produto:.2f}\")\n",
    "print()\n",
    "fig, ax = plt.subplots(figsize=(18,6))\n",
    "\n",
    "plt.bar(produtos, total_produtos)\n",
    "\n",
    "#configuração e estilos do titulo\n",
    "plt.title(f\"Faturamento total por Produto\\n\", fontdict  = {'fontsize': '15',\n",
    "                                                                               'family': 'serif',\n",
    "                                                                               'fontweight': 'bold',\n",
    "                                                                               'color': 'black' }, loc = 'center')\n",
    "#configuração e estilos do label x\n",
    "plt.xlabel(\"\\nProduto\", fontdict  = {'fontsize': '15',\n",
    "                                       'family': 'serif',\n",
    "                                       'fontweight': 'bold',\n",
    "                                       'color': 'blue' }, loc = 'center')\n",
    "#configuração e estilos do label y\n",
    "plt.ylabel(\"Faturamento\", fontdict  = {'fontsize': '15',\n",
    "                                       'family': 'serif',\n",
    "                                       'fontweight': 'bold',\n",
    "                                       'color': 'blue', 'verticalalignment': 'baseline',\n",
    "                                        }, loc = 'center')\n",
    "#legenda automatica configuração e posicionamento da \n",
    "\n",
    "plt.show()"
   ]
  },
  {
   "cell_type": "markdown",
   "id": "37083b42",
   "metadata": {},
   "source": [
    "#### Total de unidades vendidas por estado e por dia"
   ]
  },
  {
   "cell_type": "code",
   "execution_count": 30,
   "id": "e5183056",
   "metadata": {},
   "outputs": [],
   "source": [
    "def survey(results, category_names):\n",
    "    \"\"\"\n",
    "    Parameters\n",
    "    ----------\n",
    "    results : dict\n",
    "        A mapping from question labels to a list of answers per category.\n",
    "        It is assumed all lists contain the same number of entries and that\n",
    "        it matches the length of *category_names*.\n",
    "    category_names : list of str\n",
    "        The category labels.\n",
    "    \"\"\"\n",
    "    labels = list(results.keys())\n",
    "    data = np.array(list(results.values()))\n",
    "    data_cum = data.cumsum(axis=1)\n",
    "    category_colors = plt.colormaps['RdYlGn'](\n",
    "        np.linspace(0.15, 0.85, data.shape[1]))\n",
    "\n",
    "    fig, ax = plt.subplots(figsize=(30, 8))\n",
    "    ax.invert_yaxis()\n",
    "    ax.xaxis.set_visible(False)\n",
    "    ax.set_xlim(0, np.sum(data, axis=1).max())\n",
    "\n",
    "    for i, (colname, color) in enumerate(zip(category_names, category_colors)):\n",
    "        widths = data[:, i]\n",
    "        starts = data_cum[:, i] - widths\n",
    "        rects = ax.barh(labels, widths, left=starts, height=0.5,\n",
    "                        label=colname, color=color)\n",
    "\n",
    "        r, g, b, _ = color\n",
    "        text_color = 'white' if r * g * b < 0.5 else 'darkgrey'\n",
    "        ax.bar_label(rects, label_type='center', color=text_color)\n",
    "    ax.legend(ncol=len(category_names), bbox_to_anchor=(0, 1),\n",
    "              loc='lower left', fontsize='small')\n",
    "\n",
    "    return fig, ax\n"
   ]
  },
  {
   "cell_type": "code",
   "execution_count": 31,
   "id": "c697657d",
   "metadata": {},
   "outputs": [
    {
     "name": "stderr",
     "output_type": "stream",
     "text": [
      "C:\\Users\\Markos Alves\\AppData\\Local\\Temp\\ipykernel_78900\\3747470705.py:12: UserWarning: Boolean Series key will be reindexed to match DataFrame index.\n",
      "  df2 = df1[df['Dia'] == dia]\n"
     ]
    },
    {
     "data": {
      "image/png": "[encoded data removed]",
      "text/plain": [
       "<Figure size 2160x576 with 1 Axes>"
      ]
     },
     "metadata": {
      "needs_background": "light"
     },
     "output_type": "display_data"
    },
    {
     "name": "stderr",
     "output_type": "stream",
     "text": [
      "C:\\Users\\Markos Alves\\AppData\\Local\\Temp\\ipykernel_78900\\3747470705.py:12: UserWarning: Boolean Series key will be reindexed to match DataFrame index.\n",
      "  df2 = df1[df['Dia'] == dia]\n"
     ]
    },
    {
     "data": {
      "image/png": "[encoded data removed]",
      "text/plain": [
       "<Figure size 2160x576 with 1 Axes>"
      ]
     },
     "metadata": {
      "needs_background": "light"
     },
     "output_type": "display_data"
    }
   ],
   "source": [
    "meses.sort()\n",
    "for mes in meses: \n",
    "    df1 = df[df['Mês'] == mes]\n",
    "    dias = df1['Dia'].unique()\n",
    "    dias.sort()\n",
    "    datas = {'Minas Gerais':[],\n",
    "             'São Paulo':[],\n",
    "             'Espírito Santo':[],\n",
    "             'Rio de Janeiro':[]\n",
    "             }\n",
    "    for dia in dias:\n",
    "        df2 = df1[df['Dia'] == dia]\n",
    "        estados = df1['Estado'].unique()\n",
    "        for estado in estados:\n",
    "            df3 = df2[df2['Estado'] == estado]\n",
    "            datas[estado].append(df3.shape[0])\n",
    "    \n",
    "    survey(datas, dias)\n",
    "    plt.show()\n",
    "\n"
   ]
  },
  {
   "cell_type": "markdown",
   "id": "96d2fcb5",
   "metadata": {},
   "source": [
    "#### Total de unidades vendidas por produto"
   ]
  },
  {
   "cell_type": "code",
   "execution_count": 32,
   "id": "a1764a1b",
   "metadata": {},
   "outputs": [
    {
     "data": {
      "image/png": "[encoded data removed]",
      "text/plain": [
       "<Figure size 1296x432 with 1 Axes>"
      ]
     },
     "metadata": {
      "needs_background": "light"
     },
     "output_type": "display_data"
    }
   ],
   "source": [
    "produtos = df['Produto'].unique()\n",
    "U_vendidas = list()\n",
    "\n",
    "for produto in produtos:\n",
    "    new_df = df[df['Produto'] == produto]\n",
    "    U_vendidas.append(new_df.shape[0])\n",
    "    \n",
    "novo_df = pd.DataFrame({'Produto': produtos, 'Quatidade': U_vendidas})\n",
    "\n",
    "novo_df = novo_df.to_csv(f\"E:\\Dados_do_power_BI\\cap_08\\contxproduto.csv\")\n",
    "fig, ax = plt.subplots(figsize = (18, 6))\n",
    "\n",
    "\n",
    "\n",
    "bar_colors = ['tab:red']\n",
    "\n",
    "ax.bar(produtos, U_vendidas, color=bar_colors)\n",
    "\n",
    "ax.set_ylabel('fruit supply')\n",
    "ax.set_title('Fruit supply by kind and color')\n",
    "\n",
    "\n",
    "plt.show()"
   ]
  },
  {
   "cell_type": "code",
   "execution_count": 33,
   "id": "cb71093f",
   "metadata": {},
   "outputs": [],
   "source": [
    "colunas = ['Produto','Cidade','Estado','País', 'Dia','Mês','Ano']"
   ]
  },
  {
   "cell_type": "code",
   "execution_count": 34,
   "id": "b7ee8a2a",
   "metadata": {},
   "outputs": [],
   "source": [
    "def cria_dim(df = pd.DataFrame(), colunas = list()):\n",
    "    for coluna in colunas:\n",
    "        df[coluna] = df[coluna].astype(str)\n",
    "        dins = df[coluna].unique()\n",
    "        new_dim = pd.DataFrame({coluna: dins})\n",
    "        new_dim = new_dim.to_csv(f\"E:\\Dados_do_power_BI\\cap_08\\dim_{coluna}.csv\")"
   ]
  },
  {
   "cell_type": "code",
   "execution_count": 35,
   "id": "11f112ca",
   "metadata": {},
   "outputs": [],
   "source": [
    "cria_dim(df , colunas)"
   ]
  },
  {
   "cell_type": "code",
   "execution_count": 36,
   "id": "da6ea8a7",
   "metadata": {},
   "outputs": [],
   "source": [
    "df = df.to_csv(f\"E:\\Dados_do_power_BI\\cap_08\\df_limpo.csv\")"
   ]
  },
  {
   "cell_type": "code",
   "execution_count": null,
   "id": "a160465c",
   "metadata": {},
   "outputs": [],
   "source": []
  }
 ],
 "metadata": {
  "kernelspec": {
   "display_name": "Python 3 (ipykernel)",
   "language": "python",
   "name": "python3"
  },
  "language_info": {
   "codemirror_mode": {
    "name": "ipython",
    "version": 3
   },
   "file_extension": ".py",
   "mimetype": "text/x-python",
   "name": "python",
   "nbconvert_exporter": "python",
   "pygments_lexer": "ipython3",
   "version": "3.9.12"
  }
 },
 "nbformat": 4,
 "nbformat_minor": 5
}
